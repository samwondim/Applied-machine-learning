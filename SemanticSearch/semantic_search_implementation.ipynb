{
 "cells": [
  {
   "cell_type": "code",
   "execution_count": null,
   "id": "4db6bcb8-b821-48f0-b88f-17166950c94b",
   "metadata": {},
   "outputs": [],
   "source": [
    "from pypdf import PdfReader"
   ]
  },
  {
   "cell_type": "code",
   "execution_count": null,
   "id": "331f194b-34c3-4bf2-b3c4-5edcb646224d",
   "metadata": {},
   "outputs": [],
   "source": [
    "pdf_reader = PdfReader('./Civics.pdf')"
   ]
  },
  {
   "cell_type": "code",
   "execution_count": null,
   "id": "8704b6a2-0d13-41fa-a9b3-bee1ec47da4e",
   "metadata": {},
   "outputs": [],
   "source": [
    "data = []\n",
    "for i, page in enumerate(pdf_reader.pages):\n",
    "    data.append({'page':i, 'content':page.extract_text()})"
   ]
  },
  {
   "cell_type": "code",
   "execution_count": null,
   "id": "233e49b3-c6ba-455f-8dc5-33da06d55936",
   "metadata": {},
   "outputs": [],
   "source": [
    "data = data[6:len(pdf_reader.pages)]"
   ]
  },
  {
   "cell_type": "code",
   "execution_count": null,
   "id": "9814b4cc-aa57-489f-a8c8-7cc37b0ccf9d",
   "metadata": {},
   "outputs": [],
   "source": [
    "import pandas as pd"
   ]
  },
  {
   "cell_type": "code",
   "execution_count": null,
   "id": "9133a707-a500-4587-98c1-a0d9348ad5f5",
   "metadata": {},
   "outputs": [],
   "source": [
    "df = pd.DataFrame(data)"
   ]
  },
  {
   "cell_type": "code",
   "execution_count": null,
   "id": "62855406-bb37-41f3-96eb-5319f2c6ebfd",
   "metadata": {},
   "outputs": [],
   "source": [
    "import nltk\n",
    "import string\n",
    "pd.options.mode.chained_assignment = None"
   ]
  },
  {
   "cell_type": "code",
   "execution_count": null,
   "id": "2360d74a-5e54-4f56-ac68-9bbf13fecbfc",
   "metadata": {},
   "outputs": [],
   "source": [
    "df['text_lower'] = df['content'].str.lower()"
   ]
  },
  {
   "cell_type": "code",
   "execution_count": null,
   "id": "abc2613f-3f04-4000-a94d-ec7bd27c7b65",
   "metadata": {},
   "outputs": [],
   "source": [
    "PUNCT_TO_REMOVE = string.punctuation\n",
    "def remove_punctuation(text):\n",
    "    return text.translate(str.maketrans('','', PUNCT_TO_REMOVE))\n",
    "\n",
    "df['text_wo_punct'] = df['text_lower'].apply(lambda text: remove_punctuation(text))\n"
   ]
  },
  {
   "cell_type": "code",
   "execution_count": null,
   "id": "9942e7b6-8b75-49f3-8c19-3691e4e73f77",
   "metadata": {},
   "outputs": [],
   "source": [
    "import chromadb\n",
    "import sentence_transformers"
   ]
  },
  {
   "cell_type": "code",
   "execution_count": null,
   "id": "71dc854b-bc09-4132-96a0-43ba349b6d9e",
   "metadata": {},
   "outputs": [],
   "source": [
    "from sentence_transformers import SentenceTransformer, util"
   ]
  },
  {
   "cell_type": "code",
   "execution_count": null,
   "id": "d1091342-c4ec-4425-b7b9-e0628254a181",
   "metadata": {},
   "outputs": [],
   "source": [
    "model = SentenceTransformer('all-MiniLM-L6-v2')"
   ]
  },
  {
   "cell_type": "code",
   "execution_count": null,
   "id": "6f542cd3-5657-43d2-9879-58ca8bf65091",
   "metadata": {},
   "outputs": [],
   "source": [
    "documents = []\n",
    "metadatas = []\n",
    "ids = []\n",
    "\n",
    "for i in range(len(df)):\n",
    "    documents.append(df['text_wo_punct'][i][6:])\n",
    "    metadatas.append({'unit':df['text_wo_punct'][i][:6], 'page':i + 1})\n",
    "    ids.append(str(i + 3))\n"
   ]
  },
  {
   "cell_type": "code",
   "execution_count": null,
   "id": "81846271-2e68-42ad-921d-fc7b2007e6dd",
   "metadata": {},
   "outputs": [],
   "source": [
    "client = chromadb.Client()"
   ]
  },
  {
   "cell_type": "code",
   "execution_count": null,
   "id": "181d17ad-6070-4db8-b0cc-86368cdcd725",
   "metadata": {},
   "outputs": [],
   "source": [
    "vector_coll = client.create_collection('civics-latest-1.0.0')\n",
    "\n",
    "vector_coll.add(\n",
    "    documents=documents,\n",
    "    metadatas=metadatas,\n",
    "    ids=ids\n",
    ")"
   ]
  },
  {
   "cell_type": "code",
   "execution_count": null,
   "id": "1386757f-8f3f-4f75-92a8-b4d709f01616",
   "metadata": {},
   "outputs": [],
   "source": [
    "results = vector_coll.query(\n",
    "    query_texts=['equality'],\n",
    "    n_results=5\n",
    ")\n",
    "for i in range(len(results)):\n",
    "    print('Ids:' , results['ids'][0][i])\n",
    "    print('Metadatas:', results['metadatas'][0][i])\n",
    "    print('Description:', results['documents'][0][i])\n",
    "    print('\\n')"
   ]
  },
  {
   "cell_type": "code",
   "execution_count": null,
   "id": "2aabb9ad-857f-404c-bee2-f2675d321b59",
   "metadata": {},
   "outputs": [],
   "source": []
  }
 ],
 "metadata": {
  "kernelspec": {
   "display_name": "Python 3 (ipykernel)",
   "language": "python",
   "name": "python3"
  },
  "language_info": {
   "codemirror_mode": {
    "name": "ipython",
    "version": 3
   },
   "file_extension": ".py",
   "mimetype": "text/x-python",
   "name": "python",
   "nbconvert_exporter": "python",
   "pygments_lexer": "ipython3",
   "version": "3.10.12"
  }
 },
 "nbformat": 4,
 "nbformat_minor": 5
}
