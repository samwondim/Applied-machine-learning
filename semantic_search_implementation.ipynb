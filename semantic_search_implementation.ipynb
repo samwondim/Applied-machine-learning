{
 "cells": [
  {
   "cell_type": "code",
   "execution_count": null,
   "id": "4db6bcb8-b821-48f0-b88f-17166950c94b",
   "metadata": {},
   "outputs": [],
   "source": [
    "from pypdf import PdfReader"
   ]
  },
  {
   "cell_type": "code",
   "execution_count": null,
   "id": "331f194b-34c3-4bf2-b3c4-5edcb646224d",
   "metadata": {},
   "outputs": [],
   "source": [
    "pdf_reader = PdfReader('./Civics.pdf')"
   ]
  },
  {
   "cell_type": "code",
   "execution_count": null,
   "id": "8704b6a2-0d13-41fa-a9b3-bee1ec47da4e",
   "metadata": {},
   "outputs": [],
   "source": [
    "data = []\n",
    "for i, page in enumerate(pdf_reader.pages):\n",
    "    data.append({'page':i, 'content':page.extract_text()})"
   ]
  },
  {
   "cell_type": "code",
   "execution_count": null,
   "id": "233e49b3-c6ba-455f-8dc5-33da06d55936",
   "metadata": {},
   "outputs": [],
   "source": [
    "data = data[6:len(pdf_reader.pages)]"
   ]
  },
  {
   "cell_type": "code",
   "execution_count": null,
   "id": "9814b4cc-aa57-489f-a8c8-7cc37b0ccf9d",
   "metadata": {},
   "outputs": [],
   "source": [
    "import pandas as pd"
   ]
  },
  {
   "cell_type": "code",
   "execution_count": null,
   "id": "9133a707-a500-4587-98c1-a0d9348ad5f5",
   "metadata": {},
   "outputs": [],
   "source": [
    "df = pd.DataFrame(data)"
   ]
  },
  {
   "cell_type": "code",
   "execution_count": null,
   "id": "62855406-bb37-41f3-96eb-5319f2c6ebfd",
   "metadata": {},
   "outputs": [],
   "source": [
    "import nltk\n",
    "import string\n",
    "pd.options.mode.chained_assignment = None"
   ]
  },
  {
   "cell_type": "code",
   "execution_count": null,
   "id": "2360d74a-5e54-4f56-ac68-9bbf13fecbfc",
   "metadata": {},
   "outputs": [],
   "source": [
    "df['text_lower'] = df['content'].str.lower()"
   ]
  },
  {
   "cell_type": "code",
   "execution_count": null,
   "id": "abc2613f-3f04-4000-a94d-ec7bd27c7b65",
   "metadata": {},
   "outputs": [],
   "source": [
    "PUNCT_TO_REMOVE = string.punctuation\n",
    "def remove_punctuation(text):\n",
    "    return text.translate(str.maketrans('','', PUNCT_TO_REMOVE))\n",
    "\n",
    "df['text_wo_punct'] = df['text_lower'].apply(lambda text: remove_punctuation(text))\n"
   ]
  },
  {
   "cell_type": "code",
   "execution_count": null,
   "id": "4cf27b63-4681-491d-8d4f-d83a5f1ddc68",
   "metadata": {},
   "outputs": [],
   "source": [
    "from nltk.corpus import stopwords\n",
    "\", \".join(stopwords.words('english'))"
   ]
  },
  {
   "cell_type": "code",
   "execution_count": null,
   "id": "ccd505d9-64c4-4217-9d51-f8bba53479e3",
   "metadata": {},
   "outputs": [],
   "source": [
    "STOPWORDS = set(stopwords.words('english'))\n",
    "\n",
    "def remove_stopwords(text):\n",
    "    return \" \".join([word for word in str(text).split() if word not in STOPWORDS])"
   ]
  },
  {
   "cell_type": "code",
   "execution_count": null,
   "id": "d11b458a-a440-4796-886f-709939217e5c",
   "metadata": {},
   "outputs": [],
   "source": [
    "df['text_wo_stop'] = df['text_wo_punct'].apply(lambda text: remove_stopwords(text))\n",
    "df.tail()"
   ]
  },
  {
   "cell_type": "code",
   "execution_count": null,
   "id": "fc8406ed-3a3b-47ee-86d7-ba038304b4f7",
   "metadata": {},
   "outputs": [],
   "source": [
    "from collections import Counter\n",
    "cnt = Counter()\n",
    "for text in df['text_wo_stop'].values:\n",
    "    for word in text.split():\n",
    "        cnt[word] += 1\n",
    "cnt.most_common(10)"
   ]
  },
  {
   "cell_type": "code",
   "execution_count": null,
   "id": "f827d299-6394-4393-8a19-a3aa1a594527",
   "metadata": {},
   "outputs": [],
   "source": [
    "FREQ_WORDS = set([w for (w, wc) in cnt.most_common(10)])\n",
    "\n",
    "def remove_freqwords(text):\n",
    "    return ' '.join([word for word in str(text).split() if word not in FREQ_WORDS])\n",
    "df['text_wo_stopfreq'] = df['text_wo_stop'].apply(lambda text: remove_freqwords(text))\n",
    "df['text_wo_stopfreq'][1][:-1]"
   ]
  },
  {
   "cell_type": "code",
   "execution_count": null,
   "id": "b87757db-e79e-4e71-9ace-ce1a8aaeb62f",
   "metadata": {},
   "outputs": [],
   "source": [
    "df.drop(['text_wo_punct', 'text_wo_stop'], axis = 1, inplace= True)\n"
   ]
  },
  {
   "cell_type": "code",
   "execution_count": null,
   "id": "7bf0c09c-1404-4d80-96e1-5df863b95f27",
   "metadata": {},
   "outputs": [],
   "source": [
    "n_rare_words = 10\n",
    "RARE_WORDS = set([w for (w, wc) in cnt.most_common()[:-n_rare_words-1:-1]])\n",
    "RARE_WORDS"
   ]
  },
  {
   "cell_type": "code",
   "execution_count": null,
   "id": "84d0c26e-fdb8-48f0-901f-0b83eb3dcce4",
   "metadata": {},
   "outputs": [],
   "source": [
    "def remove_rarewords(text):\n",
    "    return ' '.join([word for word in str(text).split() if word not in RARE_WORDS])"
   ]
  },
  {
   "cell_type": "code",
   "execution_count": null,
   "id": "9aaada20-9f34-4b24-85bb-b86552b57a5d",
   "metadata": {},
   "outputs": [],
   "source": [
    "df['text_wo_stopfreqrare'] = df['text_wo_stopfreq'].apply(lambda text: remove_rarewords(text))\n",
    "df.head()"
   ]
  },
  {
   "cell_type": "code",
   "execution_count": null,
   "id": "4f51f0b2-46f2-48d3-b4a5-f9191766a3a6",
   "metadata": {},
   "outputs": [],
   "source": [
    "from nltk.stem.porter import PorterStemmer\n",
    "df['text_wo_stopfreqrare'][3][:]"
   ]
  },
  {
   "cell_type": "code",
   "execution_count": null,
   "id": "8945fe14-8305-456f-8f06-755e34bd3e64",
   "metadata": {},
   "outputs": [],
   "source": [
    "df['text_wo_stopfreqrare'][1][20:]"
   ]
  },
  {
   "cell_type": "code",
   "execution_count": null,
   "id": "d704cbca-ef94-4b7d-baf3-6575cc91d170",
   "metadata": {},
   "outputs": [],
   "source": [
    "df['text_wo_stopfreqrare']"
   ]
  },
  {
   "cell_type": "code",
   "execution_count": null,
   "id": "23615405-bbc6-42d0-b900-3752c9de54a3",
   "metadata": {},
   "outputs": [],
   "source": [
    "units = []\n",
    "for i in range(1, 12):\n",
    "    units.append(i)\n",
    "units"
   ]
  },
  {
   "cell_type": "code",
   "execution_count": null,
   "id": "5bcd0f25-f272-48e2-a7b1-4c315c710233",
   "metadata": {},
   "outputs": [],
   "source": [
    "chapter_titles = ['Building a democratic system',\n",
    "                  'Rule of Law','Equality','Justice','Patriotism','Responsibility','Industriousness','Self Reliance','Saving', 'Active community participation','The pursuit of wisdom']"
   ]
  },
  {
   "cell_type": "code",
   "execution_count": null,
   "id": "a52300dd-65ce-482e-8b69-9f54f92b3567",
   "metadata": {},
   "outputs": [],
   "source": [
    "chapters = {str(unit):chapter for (unit, chapter) in zip(units, chapter_titles)}\n",
    "chapters"
   ]
  },
  {
   "cell_type": "code",
   "execution_count": null,
   "id": "9942e7b6-8b75-49f3-8c19-3691e4e73f77",
   "metadata": {},
   "outputs": [],
   "source": [
    "import chromadb\n",
    "import sentence_transformers"
   ]
  },
  {
   "cell_type": "code",
   "execution_count": null,
   "id": "71dc854b-bc09-4132-96a0-43ba349b6d9e",
   "metadata": {},
   "outputs": [],
   "source": [
    "from sentence_transformers import SentenceTransformer, util"
   ]
  },
  {
   "cell_type": "code",
   "execution_count": null,
   "id": "d1091342-c4ec-4425-b7b9-e0628254a181",
   "metadata": {},
   "outputs": [],
   "source": [
    "model = SentenceTransformer('all-MiniLM-L6-v2')"
   ]
  },
  {
   "cell_type": "code",
   "execution_count": null,
   "id": "6f542cd3-5657-43d2-9879-58ca8bf65091",
   "metadata": {},
   "outputs": [],
   "source": [
    "documents = []\n",
    "metadatas = []\n",
    "ids = []\n",
    "\n",
    "for i in range(len(df)):\n",
    "    documents.append(df['text_wo_punct'][i][6:])\n",
    "    metadatas.append({'unit':df['text_wo_punct'][i][:6], 'page':i + 1})\n",
    "    ids.append(str(i + 3))\n"
   ]
  },
  {
   "cell_type": "code",
   "execution_count": null,
   "id": "ccdaf502-b061-4ba9-b27f-29bd29396e63",
   "metadata": {},
   "outputs": [],
   "source": [
    "documents"
   ]
  },
  {
   "cell_type": "code",
   "execution_count": null,
   "id": "81846271-2e68-42ad-921d-fc7b2007e6dd",
   "metadata": {},
   "outputs": [],
   "source": [
    "client = chromadb.Client()"
   ]
  },
  {
   "cell_type": "code",
   "execution_count": null,
   "id": "181d17ad-6070-4db8-b0cc-86368cdcd725",
   "metadata": {},
   "outputs": [],
   "source": [
    "vector_coll = client.create_collection('civics-latest')\n",
    "\n",
    "vector_coll.add(\n",
    "    documents=documents,\n",
    "    metadatas=metadatas,\n",
    "    ids=ids\n",
    ")"
   ]
  },
  {
   "cell_type": "code",
   "execution_count": null,
   "id": "1386757f-8f3f-4f75-92a8-b4d709f01616",
   "metadata": {},
   "outputs": [],
   "source": [
    "results = vector_coll.query(\n",
    "    query_texts=['justice'],\n",
    "    n_results=5\n",
    ")\n",
    "for i in range(len(results)):\n",
    "    print('Ids:' , results['ids'][0][i])\n",
    "    print('Metadatas:', results['metadatas'][0][i])\n",
    "    print('Description:', results['documents'][0][i])\n",
    "    print('\\n')"
   ]
  },
  {
   "cell_type": "code",
   "execution_count": null,
   "id": "2aabb9ad-857f-404c-bee2-f2675d321b59",
   "metadata": {},
   "outputs": [],
   "source": []
  }
 ],
 "metadata": {
  "kernelspec": {
   "display_name": "Python 3 (ipykernel)",
   "language": "python",
   "name": "python3"
  },
  "language_info": {
   "codemirror_mode": {
    "name": "ipython",
    "version": 3
   },
   "file_extension": ".py",
   "mimetype": "text/x-python",
   "name": "python",
   "nbconvert_exporter": "python",
   "pygments_lexer": "ipython3",
   "version": "3.10.12"
  }
 },
 "nbformat": 4,
 "nbformat_minor": 5
}
