{
 "cells": [
  {
   "cell_type": "code",
   "execution_count": 1,
   "id": "4db6bcb8-b821-48f0-b88f-17166950c94b",
   "metadata": {},
   "outputs": [],
   "source": [
    "from pypdf import PdfReader"
   ]
  },
  {
   "cell_type": "code",
   "execution_count": 2,
   "id": "331f194b-34c3-4bf2-b3c4-5edcb646224d",
   "metadata": {},
   "outputs": [],
   "source": [
    "pdf_reader = PdfReader('./Civics.pdf')"
   ]
  },
  {
   "cell_type": "code",
   "execution_count": 3,
   "id": "8704b6a2-0d13-41fa-a9b3-bee1ec47da4e",
   "metadata": {},
   "outputs": [],
   "source": [
    "data = []\n",
    "for i, page in enumerate(pdf_reader.pages):\n",
    "    data.append({'page':i, 'content':page.extract_text()})"
   ]
  },
  {
   "cell_type": "code",
   "execution_count": 4,
   "id": "233e49b3-c6ba-455f-8dc5-33da06d55936",
   "metadata": {},
   "outputs": [],
   "source": [
    "data = data[6:len(pdf_reader.pages)]"
   ]
  },
  {
   "cell_type": "code",
   "execution_count": 5,
   "id": "9814b4cc-aa57-489f-a8c8-7cc37b0ccf9d",
   "metadata": {},
   "outputs": [],
   "source": [
    "import pandas as pd"
   ]
  },
  {
   "cell_type": "code",
   "execution_count": 6,
   "id": "9133a707-a500-4587-98c1-a0d9348ad5f5",
   "metadata": {},
   "outputs": [],
   "source": [
    "df = pd.DataFrame(data)"
   ]
  },
  {
   "cell_type": "code",
   "execution_count": 7,
   "id": "62855406-bb37-41f3-96eb-5319f2c6ebfd",
   "metadata": {},
   "outputs": [],
   "source": [
    "import nltk\n",
    "import string\n",
    "pd.options.mode.chained_assignment = None"
   ]
  },
  {
   "cell_type": "code",
   "execution_count": 8,
   "id": "2360d74a-5e54-4f56-ac68-9bbf13fecbfc",
   "metadata": {},
   "outputs": [],
   "source": [
    "df['text_lower'] = df['content'].str.lower()"
   ]
  },
  {
   "cell_type": "code",
   "execution_count": 9,
   "id": "abc2613f-3f04-4000-a94d-ec7bd27c7b65",
   "metadata": {},
   "outputs": [],
   "source": [
    "PUNCT_TO_REMOVE = string.punctuation\n",
    "def remove_punctuation(text):\n",
    "    return text.translate(str.maketrans('','', PUNCT_TO_REMOVE))\n",
    "\n",
    "df['text_wo_punct'] = df['text_lower'].apply(lambda text: remove_punctuation(text))\n"
   ]
  },
  {
   "cell_type": "code",
   "execution_count": 10,
   "id": "9942e7b6-8b75-49f3-8c19-3691e4e73f77",
   "metadata": {},
   "outputs": [],
   "source": [
    "import chromadb\n",
    "import sentence_transformers"
   ]
  },
  {
   "cell_type": "code",
   "execution_count": 11,
   "id": "71dc854b-bc09-4132-96a0-43ba349b6d9e",
   "metadata": {},
   "outputs": [],
   "source": [
    "from sentence_transformers import SentenceTransformer, util"
   ]
  },
  {
   "cell_type": "code",
   "execution_count": 12,
   "id": "d1091342-c4ec-4425-b7b9-e0628254a181",
   "metadata": {},
   "outputs": [
    {
     "name": "stderr",
     "output_type": "stream",
     "text": [
      "2023-09-19 12:29:50.960789: I tensorflow/core/platform/cpu_feature_guard.cc:182] This TensorFlow binary is optimized to use available CPU instructions in performance-critical operations.\n",
      "To enable the following instructions: AVX2 FMA, in other operations, rebuild TensorFlow with the appropriate compiler flags.\n"
     ]
    }
   ],
   "source": [
    "model = SentenceTransformer('all-MiniLM-L6-v2')"
   ]
  },
  {
   "cell_type": "code",
   "execution_count": 13,
   "id": "6f542cd3-5657-43d2-9879-58ca8bf65091",
   "metadata": {},
   "outputs": [],
   "source": [
    "documents = []\n",
    "metadatas = []\n",
    "ids = []\n",
    "\n",
    "for i in range(len(df)):\n",
    "    documents.append(df['text_wo_punct'][i][6:])\n",
    "    metadatas.append({'unit':df['text_wo_punct'][i][:6], 'page':i + 1})\n",
    "    ids.append(str(i + 3))\n"
   ]
  },
  {
   "cell_type": "code",
   "execution_count": 14,
   "id": "81846271-2e68-42ad-921d-fc7b2007e6dd",
   "metadata": {},
   "outputs": [],
   "source": [
    "client = chromadb.Client()"
   ]
  },
  {
   "cell_type": "code",
   "execution_count": 17,
   "id": "181d17ad-6070-4db8-b0cc-86368cdcd725",
   "metadata": {},
   "outputs": [],
   "source": [
    "vector_coll = client.create_collection('civics-latest-1.0.0')\n",
    "\n",
    "vector_coll.add(\n",
    "    documents=documents,\n",
    "    metadatas=metadatas,\n",
    "    ids=ids\n",
    ")"
   ]
  },
  {
   "cell_type": "code",
   "execution_count": 20,
   "id": "1386757f-8f3f-4f75-92a8-b4d709f01616",
   "metadata": {},
   "outputs": [
    {
     "name": "stdout",
     "output_type": "stream",
     "text": [
      "Ids: 48\n",
      "Metadatas: {'page': 46, 'unit': 'unit 3'}\n",
      "Description:  — equality lesson 1  \n",
      " 48 square6 civics and ethical education — grade 10 student textbookby the end of this lesson you should be able to\n",
      " circle6 explain the new dimensions of equality after \n",
      "the transition to democracy in ethiopia \n",
      "do you have some idea about the history of \n",
      "equality in ethiopia\n",
      "you learnt the meaning of equality in grade 9 \n",
      "equality does not mean the provision of identical treatment and benefits when we say all citizens are equal we are not saying all of them should receive identical treatment and rewards for example hundreds of athletes may participate in a marathon competition where the rules and the course are the same for every competitor but depending on their ability and performance they may get different awards absolute equality and similarity do not exist between any two people this is because we differ in physical strength intellectual capacity interest and devotion \n",
      " equality means having similar rights benefits \n",
      "and opportunities the rights guaranteed to you are guaranteed to other citizens and vice versa equality also indicates the absence of discrimination based on race wealth sex and culture inequality based on race and gender was \n",
      "common in ethiopia and other parts of the world for example black americans in the united states of america did not have the right to vote until the constitutional amendment of 1870 similarly women did not have the right to elect until the amendment of the constitution in 1920\n",
      " equality is not only about rights and benefits \n",
      "but also burdens that should be distributed equally for example as your parents enjoy government services they have the obligation to pay appropriate amounts of tax as do other citizens\n",
      " citizens should enjoy benefits and services \n",
      "provided by the government they should also shoulder responsibilities inequality prevailed in ethiopia in many ways in the past the relationship between peasants and landlords in the feudal period is a good example of inequality t h e  p e a s a n t s  a t  t h a t  t i m e  w e r e  f o r c e d  t o  p a y  different types of taxes in the form of crops cattle and sheep or labour although peasants had all these burdens they did not get schools health centres and other social services they also did not have the right to political participation since the kings and their families as well as feudal lords controlled political power \n",
      "the concept of equality the concept of equality1 l   e   s   s   o   n\n",
      "\n",
      "\n",
      "Ids: 47\n",
      "Metadatas: {'page': 45, 'unit': 'the co'}\n",
      "Description: ncept of equality\n",
      " civics and ethical education — grade 10 student textbook square6 47unit  3 unit  3\n",
      "equality equality\n",
      "introduction\n",
      "in  g r a d e  9   y o u  i d en tifi ed  w ha t  eq u ali ty  m e ans   y o u  discussed  eq u ali ty  o f  ci tizens   g en d e r  eq u ali ty  \n",
      "and equality within diversity  in this unit you will discuss the importance of equality in promoting peace  stability and dev elopment the unit also focuses on equality of cultures including equality of languages and religions\n",
      " \n",
      "lessons\n",
      "the  concept of equality1 \n",
      "the effects of equality of citizens2 \n",
      "gender equality 3 \n",
      "equality of cultures4 \n",
      "what you will learn \n",
      "you will\n",
      "recognize how equality was understood in  \n",
      "ethiopiaappreciate the importance of equality \n",
      "understand the necessity of gender equality \n",
      "key words and concepts\n",
      "culture \n",
      "equality of cultures \n",
      "equal opportunities \n",
      "national consensus \n",
      "stability \n",
      "taking equal responsibility for household chores\n",
      "\n",
      "\n",
      "Ids: 58\n",
      "Metadatas: {'page': 56, 'unit': 'unit 3'}\n",
      "Description:  — equality lesson 4  \n",
      "equality of cultures\n",
      " 58 square6 civics and ethical education — grade 10 student textbookremember\n",
      " boxshadowup culture is the unique way of doing things in a certain society\n",
      " boxshadowup culture includes languages clothes dances etc…\n",
      " boxshadowup it is important to treat all languages equally\n",
      " boxshadowup it is important to respect others’ religions and treat them equally\n",
      " boxshadowup it is important to treat the cultural traits of others equally \n",
      "\n",
      "\n",
      "Ids: 51\n",
      "Metadatas: {'page': 49, 'unit': 'unit 3'}\n",
      "Description:  — equality lesson 2  \n",
      " civics and ethical education — grade 10 student textbook square6 51by the end of this lesson you should be able to\n",
      " circle6 explain the effects of the existence of equality \n",
      "among the citizens of ethiopia \n",
      "what is t he import ance o f equal i ty o f c i t i z ens \n",
      "in ethiopia\n",
      "you should have clear knowledge about the past \n",
      "because it helps you to understand the present situation in a better way when you go back in time you understand that ethiopian history is full of stories of wars and conflicts ethiopians fought many battles against external enemies in order to defend their country  this is what we have to do today and in the future when enemies invade our country this is our obligation as citizens\n",
      "victory monument in arat kilo  —\n",
      "a sign of our ability to defend the motherland but in ethiopia there was an internal war as \n",
      "well one of the main causes of internal wars was the existence of inequalities you know that war is destructive the continuous conflicts and wars exhausted the resources of the country and led to lack of peace and stability  this in turn retarded \n",
      "the development of our country\n",
      " the solution to avoid wars and conflicts is \n",
      "promoting equality of citizens citizens should enjoy equality regarding access to social services such as education and job opportunities they should also have equal opportunities  in political \n",
      "p a r t i c i p a t i o n   w h e n  e q u a l i t y  p r e v a i l s  w e  e n j o y  peace and stability the existence of peace and stability reduces conflict and wars and thus reduces the destruction of human and material resources of the country \n",
      " it also helps us to live in peace and work \n",
      "together to promote the development of our country when peace and stability exist people invest their money in different sectors farmers devote time and labour to tilling the land and c u l t i v a t i n g  m o r e  c r o p s   p e o p l e  m o v e  f r o m  p l a c e  to place for business and different purposes you and your friends attend classes sit for exams and get promotion all these are possible when peace and stability prevails \n",
      " w e  h a v e  s a i d  t h a t  t h e  e x i s t e n c e  o f  e q u a l i t y  \n",
      "leads to peace and accelerates development it also paves the way for national consensus national consensus means all members of a group agreeing on and sharing similar opinions about important the effects of equality of the effects of equality of \n",
      "citizens citizens2 l   e   s   s   o   n\n",
      "\n",
      "\n",
      "Ids: 53\n",
      "Metadatas: {'page': 51, 'unit': 'unit 3'}\n",
      "Description:  — equality lesson 3  \n",
      " civics and ethical education — grade 10 student textbook square6 53by the end of this lesson you should be able to\n",
      " circle6 describe the importance of gender equality\n",
      " circle6 explain the constitutional response to gender \n",
      "equality in ethiopia\n",
      " circle6 respect gender equality\n",
      "have you ever observed your parents treating \n",
      "you and your brothersister differently because you are of a different gender \n",
      "discuss this issue in the class \n",
      "you have seen in the previous lessons the \n",
      "importance of equality to promote peace stability and development one of the dimensions of equality is gender equality gender equality is concerned with the equality of the sexes it means that men and women are equal \n",
      " this has always been a problematic issue in \n",
      "many countries because women are considered inferior to men in many cultures for example many mothers order their daughters to do work in the house they do not expect their boys to do the same this comes from thinking wrongly that girls and not boys are supposed to work in the house this shows that boys and girls are not seen equally \n",
      " the same is true with men and women some \n",
      "people still believe that women are not capable of doing the jobs that men can do so they do not see men and women equally some people think that \n",
      "the right place for a woman is at home taking care of the children and performing other household activities such as cooking \n",
      " these days we see many changes there are \n",
      "strong women political leaders in the world there are famous women in the military there are women in all types of work so it is important to understand that men and women are equal \n",
      " changes in terms of gender equali ty are also \n",
      "growing in ethiopia  the federal constitution has recognised equality of women and put mechanisms in place to promote the enjoyment of their rights  this is clearly stated in article 35 which states\n",
      " 1 women shall in the enjoyment of rights and \n",
      "protections for by this constitution have equal rights with men\n",
      " 2 women have equal rights with men in marriage \n",
      "as prescribed by this constitution \n",
      " 3 t h e  h i s t o r i c a l  l e g a c y  o f  i n e q u a l i t y  a n d  \n",
      "discrimination suffered by women in ethiopia taken into account women in order to remedy this legacy are entitled to affirmative measures \n",
      " 4 the state shall enforce the right of women to \n",
      "eliminate the harmful customs  laws customs and practices that oppress or cause bodily or mental harm to women are prohibitedgender equality gender equality3 l   e   s   s   o   n\n",
      "\n",
      "\n"
     ]
    }
   ],
   "source": [
    "results = vector_coll.query(\n",
    "    query_texts=['equality'],\n",
    "    n_results=5\n",
    ")\n",
    "for i in range(len(results)):\n",
    "    print('Ids:' , results['ids'][0][i])\n",
    "    print('Metadatas:', results['metadatas'][0][i])\n",
    "    print('Description:', results['documents'][0][i])\n",
    "    print('\\n')"
   ]
  },
  {
   "cell_type": "code",
   "execution_count": null,
   "id": "2aabb9ad-857f-404c-bee2-f2675d321b59",
   "metadata": {},
   "outputs": [],
   "source": []
  }
 ],
 "metadata": {
  "kernelspec": {
   "display_name": "Python 3 (ipykernel)",
   "language": "python",
   "name": "python3"
  },
  "language_info": {
   "codemirror_mode": {
    "name": "ipython",
    "version": 3
   },
   "file_extension": ".py",
   "mimetype": "text/x-python",
   "name": "python",
   "nbconvert_exporter": "python",
   "pygments_lexer": "ipython3",
   "version": "3.10.12"
  }
 },
 "nbformat": 4,
 "nbformat_minor": 5
}
