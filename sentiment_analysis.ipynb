{
  "nbformat": 4,
  "nbformat_minor": 0,
  "metadata": {
    "colab": {
      "provenance": [],
      "authorship_tag": "ABX9TyMT4DDG4f/EfM5IZIiP0Gsb",
      "include_colab_link": true
    },
    "kernelspec": {
      "name": "python3",
      "display_name": "Python 3"
    },
    "language_info": {
      "name": "python"
    }
  },
  "cells": [
    {
      "cell_type": "markdown",
      "metadata": {
        "id": "view-in-github",
        "colab_type": "text"
      },
      "source": [
        "<a href=\"https://colab.research.google.com/github/samwondim/nlp-recommendation-image-classification/blob/main/sentiment_analysis.ipynb\" target=\"_parent\"><img src=\"https://colab.research.google.com/assets/colab-badge.svg\" alt=\"Open In Colab\"/></a>"
      ]
    },
    {
      "cell_type": "code",
      "source": [
        "import pandas as pd\n",
        "import tensorflow as tf\n",
        "import tensorflow.keras as keras\n"
      ],
      "metadata": {
        "id": "paH8lqgyOrDT"
      },
      "execution_count": null,
      "outputs": []
    },
    {
      "cell_type": "code",
      "source": [
        "filename = 'https://github.com/lmassaron/datasets/releases/download/1.0/imdb_50k.feather'\n",
        "reviews = pd.read_feather(filename)\n",
        "\n",
        "print(reviews.review.sample(1).values[0])"
      ],
      "metadata": {
        "id": "b2DnJZE22LQX"
      },
      "execution_count": null,
      "outputs": []
    },
    {
      "cell_type": "code",
      "source": [
        "train = reviews.sample(3000, random_state=42)\n",
        "sampled_idx = train.index\n",
        "valid = (reviews[~reviews.index.isin(train.index)].sample(1000, random_state=42))\n",
        "sampled_idx.append(valid.index)\n",
        "test = reviews[~reviews.index.isin(sampled_idx)]\n"
      ],
      "metadata": {
        "id": "x93bxE-I2yvN"
      },
      "execution_count": null,
      "outputs": []
    },
    {
      "cell_type": "code",
      "source": [
        "# Instantiate a tokenizer\n",
        "tokenizer = keras.preprocessing.text.Tokenizer()\n",
        "tokenizer.fit_on_texts(train.review)"
      ],
      "metadata": {
        "id": "zPQlhsbB3Add"
      },
      "execution_count": null,
      "outputs": []
    },
    {
      "cell_type": "code",
      "source": [
        "def tokenize_and_pad(tokenizer, df, maxlen):\n",
        "  sequences = tokenizer.texts_to_sequences(df.review)\n",
        "  pad = keras.preprocessing.sequence.pad_sequences\n",
        "  padded_seqs = pad(sequences, maxlen)\n",
        "\n",
        "  return padded_seqs, df.sentiment"
      ],
      "metadata": {
        "id": "S1b5JUsC3Ekb"
      },
      "execution_count": null,
      "outputs": []
    },
    {
      "cell_type": "code",
      "source": [
        "X, y = tokenize_and_pad(tokenizer, train, maxlen=256)\n",
        "Xv, yv = tokenize_and_pad(tokenizer, valid, maxlen=256)\n",
        "Xt, yt = tokenize_and_pad(tokenizer, test, maxlen=256)"
      ],
      "metadata": {
        "id": "CZJ8k-pp4N6-"
      },
      "execution_count": null,
      "outputs": []
    },
    {
      "cell_type": "code",
      "source": [],
      "metadata": {
        "id": "mzwoQMfj5iNo"
      },
      "execution_count": null,
      "outputs": []
    },
    {
      "cell_type": "code",
      "source": [
        "# model = keras.models.Sequential()\n",
        "tokenizer.index_word"
      ],
      "metadata": {
        "id": "nie9L1RB5q9y"
      },
      "execution_count": null,
      "outputs": []
    },
    {
      "cell_type": "code",
      "source": [
        "model = keras.models.Sequential()\n",
        "voc = len(tokenizer.index_word) + 1\n",
        "feats = 8\n",
        "seq_len = 256\n",
        "\n",
        "model.add(keras.layers.Embedding(voc, feats, input_length=seq_len))\n",
        "model.add(keras.layers.Flatten())\n",
        "model.add(keras.layers.Dropout(0.2))\n",
        "model.add(keras.layers.Dense(1, activation='sigmoid'))\n",
        "model.compile(optimizer='adam', loss='binary_crossentropy', metrics=['acc'])\n",
        "\n",
        "model.summary()"
      ],
      "metadata": {
        "id": "0lsfQnUC59Nl"
      },
      "execution_count": null,
      "outputs": []
    },
    {
      "cell_type": "code",
      "source": [
        "history = model.fit(X, y, epochs=20, batch_size=16, validation_data=(Xv, yv))"
      ],
      "metadata": {
        "id": "cICSTzQw6a9G"
      },
      "execution_count": null,
      "outputs": []
    },
    {
      "cell_type": "code",
      "source": [
        "from sklearn.metrics import accuracy_score\n",
        "\n",
        "predictions = (model.predict(Xt)>=0.5).astype(int)\n",
        "test_accuracy = accuracy_score(yt, predictions)\n",
        "\n",
        "print(f\"Accuracy on test set: {test_accuracy}\")"
      ],
      "metadata": {
        "id": "1e-QSESC66bJ"
      },
      "execution_count": null,
      "outputs": []
    },
    {
      "cell_type": "code",
      "source": [],
      "metadata": {
        "id": "hkpbuA-d7zEo"
      },
      "execution_count": null,
      "outputs": []
    }
  ]
}