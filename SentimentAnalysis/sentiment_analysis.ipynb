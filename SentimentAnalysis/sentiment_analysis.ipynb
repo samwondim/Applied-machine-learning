{
 "cells": [
  {
   "cell_type": "markdown",
   "metadata": {
    "colab_type": "text",
    "id": "view-in-github"
   },
   "source": [
    "<a href=\"https://colab.research.google.com/github/samwondim/nlp-recommendation-image-classification/blob/main/sentiment_analysis.ipynb\" target=\"_parent\"><img src=\"https://colab.research.google.com/assets/colab-badge.svg\" alt=\"Open In Colab\"/></a>"
   ]
  },
  {
   "cell_type": "code",
   "execution_count": 2,
   "metadata": {
    "id": "paH8lqgyOrDT"
   },
   "outputs": [],
   "source": [
    "import pandas as pd\n",
    "import tensorflow as tf\n",
    "import tensorflow.keras as keras\n"
   ]
  },
  {
   "cell_type": "code",
   "execution_count": 3,
   "metadata": {
    "id": "b2DnJZE22LQX"
   },
   "outputs": [
    {
     "name": "stdout",
     "output_type": "stream",
     "text": [
      "The film was apparently spawned from an idea one of the writers had when he 'saw' one of his creations in a supermarket. The inhabitants of Royston Vasey head into 'our' world to persuade the writers not to stop writing about them and thus destroy their world.<br /><br />If that sounds a bit too serious, don't be put off. Within the first few minutes we get: Bernice (the vile female vicar) letting rip at an unfortunate penitent during confession; Chinnery (the vet who inadvertently destroys every animal he touches) attempting to collect semen from a giraffe; Mickey (thick beyond belief) being, ah, thick; and Tubbs (inbred sister-wife and local shopkeeper) being sweet as ever - but still disgusting.<br /><br />Some of the regular characters are missing, but a new idea by the Gents introduces some 16th-Century characters - and we have the Gents themselves in the action too. If you're new to The League of Gentlemen, this is an easy introduction and a lot of fun. If you're a long-standing fan, this has everything you've come to expect - including the joys of Jeremy Dyson spotting.<br /><br />All told, it's got the same faintly surreal humour that's the hallmark of the series, plus some moments of quite touching 'introspection'. Herr Lipp, for example, maintains a gentle dignity on learning that he's regarded by his creators as a 'one-joke character'. While most of the characters stay as they are, some develop in unexpected ways that are perfectly natural when they happen.<br /><br />This film is a 'swan song' for Royston Vasey, but it's also a showcase for the Gents who prove that (gasp!) they can write other stuff - and it can be very funny. (But you knew that anyway.)\n"
     ]
    }
   ],
   "source": [
    "filename = 'https://github.com/lmassaron/datasets/releases/download/1.0/imdb_50k.feather'\n",
    "reviews = pd.read_feather(filename)\n",
    "\n",
    "print(reviews.review.sample(1).values[0])"
   ]
  },
  {
   "cell_type": "code",
   "execution_count": null,
   "metadata": {
    "id": "x93bxE-I2yvN"
   },
   "outputs": [],
   "source": [
    "train = reviews.sample(3000, random_state=42)\n",
    "sampled_idx = train.index\n",
    "valid = (reviews[~reviews.index.isin(train.index)].sample(1000, random_state=42))\n",
    "sampled_idx.append(valid.index)\n",
    "test = reviews[~reviews.index.isin(sampled_idx)]\n"
   ]
  },
  {
   "cell_type": "code",
   "execution_count": null,
   "metadata": {
    "id": "zPQlhsbB3Add"
   },
   "outputs": [],
   "source": [
    "# Instantiate a tokenizer\n",
    "tokenizer = keras.preprocessing.text.Tokenizer()\n",
    "tokenizer.fit_on_texts(train.review)"
   ]
  },
  {
   "cell_type": "code",
   "execution_count": null,
   "metadata": {
    "id": "S1b5JUsC3Ekb"
   },
   "outputs": [],
   "source": [
    "import numpy as np\n",
    "def tokenize_and_pad(tokenizer, df, maxlen):\n",
    "  sequences = tokenizer.texts_to_sequences(df.review)\n",
    "  pad = keras.preprocessing.sequence.pad_sequences\n",
    "  padded_seqs = pad(sequences, maxlen)\n",
    "\n",
    "  return padded_seqs, df.sentiment\n",
    "\n",
    "words = { \"review\" : [\"Hey my name is samuel\", \"Hey what's your name?\"] }\n",
    "w = pd.DataFrame(words.review)\n",
    "print(w.head())"
   ]
  },
  {
   "cell_type": "code",
   "execution_count": null,
   "metadata": {
    "id": "CZJ8k-pp4N6-"
   },
   "outputs": [],
   "source": [
    "X, y = tokenize_and_pad(tokenizer, train, maxlen=256)\n",
    "Xv, yv = tokenize_and_pad(tokenizer, valid, maxlen=256)\n",
    "Xt, yt = tokenize_and_pad(tokenizer, test, maxlen=256)"
   ]
  },
  {
   "cell_type": "code",
   "execution_count": null,
   "metadata": {
    "id": "mzwoQMfj5iNo"
   },
   "outputs": [],
   "source": []
  },
  {
   "cell_type": "code",
   "execution_count": null,
   "metadata": {
    "id": "nie9L1RB5q9y"
   },
   "outputs": [],
   "source": [
    "# model = keras.models.Sequential()\n",
    "tokenizer.index_word"
   ]
  },
  {
   "cell_type": "code",
   "execution_count": null,
   "metadata": {
    "id": "0lsfQnUC59Nl"
   },
   "outputs": [],
   "source": [
    "model = keras.models.Sequential()\n",
    "voc = len(tokenizer.index_word) + 1\n",
    "feats = 8\n",
    "seq_len = 256\n",
    "\n",
    "model.add(keras.layers.Embedding(voc, feats, input_length=seq_len))\n",
    "model.add(keras.layers.Flatten())\n",
    "model.add(keras.layers.Dropout(0.2))\n",
    "model.add(keras.layers.Dense(1, activation='sigmoid'))\n",
    "model.compile(optimizer='adam', loss='binary_crossentropy', metrics=['acc'])\n",
    "\n",
    "model.summary()"
   ]
  },
  {
   "cell_type": "code",
   "execution_count": null,
   "metadata": {
    "id": "cICSTzQw6a9G"
   },
   "outputs": [],
   "source": [
    "history = model.fit(X, y, epochs=20, batch_size=16, validation_data=(Xv, yv))"
   ]
  },
  {
   "cell_type": "code",
   "execution_count": null,
   "metadata": {
    "id": "1e-QSESC66bJ"
   },
   "outputs": [],
   "source": [
    "from sklearn.metrics import accuracy_score\n",
    "\n",
    "predictions = (model.predict(Xt)>=0.5).astype(int)\n",
    "test_accuracy = accuracy_score(yt, predictions)\n",
    "\n",
    "print(f\"Accuracy on test set: {test_accuracy}\")"
   ]
  },
  {
   "cell_type": "code",
   "execution_count": null,
   "metadata": {
    "id": "hkpbuA-d7zEo"
   },
   "outputs": [],
   "source": []
  }
 ],
 "metadata": {
  "colab": {
   "authorship_tag": "ABX9TyMT4DDG4f/EfM5IZIiP0Gsb",
   "include_colab_link": true,
   "provenance": []
  },
  "kernelspec": {
   "display_name": "Python 3 (ipykernel)",
   "language": "python",
   "name": "python3"
  },
  "language_info": {
   "codemirror_mode": {
    "name": "ipython",
    "version": 3
   },
   "file_extension": ".py",
   "mimetype": "text/x-python",
   "name": "python",
   "nbconvert_exporter": "python",
   "pygments_lexer": "ipython3",
   "version": "3.10.12"
  }
 },
 "nbformat": 4,
 "nbformat_minor": 4
}
