{
 "cells": [
  {
   "cell_type": "code",
   "execution_count": 2,
   "metadata": {},
   "outputs": [],
   "source": [
    "import random\n",
    "from typing import List"
   ]
  },
  {
   "cell_type": "code",
   "execution_count": 3,
   "metadata": {},
   "outputs": [],
   "source": [
    "def generate_equations(allowed_operators: List[str], dataset_size: int, min_value: int, max_value: int)->List:\n",
    "    equations = []\n",
    "    for _ in range(dataset_size):\n",
    "        x = random.randint(min_value, max_value)\n",
    "        y = random.randint(min_value, max_value)\n",
    "        operator = random.choice(allowed_operators)\n",
    "        c = str(x) + operator + str(y)\n",
    "        equations.append((c, eval(c)))\n",
    "    return equations"
   ]
  },
  {
   "cell_type": "code",
   "execution_count": 4,
   "metadata": {},
   "outputs": [
    {
     "data": {
      "text/plain": [
       "[('40-9', 31),\n",
       " ('23-36', -13),\n",
       " ('76-15', 61),\n",
       " ('36+48', 84),\n",
       " ('47+25', 72),\n",
       " ('64+82', 146),\n",
       " ('49-32', 17),\n",
       " ('21+74', 95),\n",
       " ('85-90', -5),\n",
       " ('25+65', 90)]"
      ]
     },
     "execution_count": 4,
     "metadata": {},
     "output_type": "execute_result"
    }
   ],
   "source": [
    "allowed_operators = ['+', '-']\n",
    "dataset_size = 10\n",
    "min_value, max_value = 0, 100\n",
    "res = generate_equations(allowed_operators, dataset_size, min_value, max_value)\n",
    "res"
   ]
  },
  {
   "cell_type": "code",
   "execution_count": 5,
   "metadata": {},
   "outputs": [],
   "source": [
    "from sklearn.model_selection import train_test_split"
   ]
  },
  {
   "cell_type": "code",
   "execution_count": 6,
   "metadata": {},
   "outputs": [],
   "source": [
    "dataset = generate_equations(allowed_operators, 100000, min_value, max_value)\n",
    "train, test = train_test_split(dataset, test_size=.2, random_state=42)"
   ]
  },
  {
   "cell_type": "code",
   "execution_count": 22,
   "metadata": {},
   "outputs": [],
   "source": [
    "word2id = {word:idx for idx, word in enumerate('^$#+-1234567890')}\n",
    "id2word = {idx:word for word, idx in word2id.items()}"
   ]
  },
  {
   "cell_type": "code",
   "execution_count": 23,
   "metadata": {},
   "outputs": [
    {
     "data": {
      "text/plain": [
       "{'#': 2,\n",
       " '$': 1,\n",
       " '+': 3,\n",
       " '-': 4,\n",
       " '0': 14,\n",
       " '1': 5,\n",
       " '2': 6,\n",
       " '3': 7,\n",
       " '4': 8,\n",
       " '5': 9,\n",
       " '6': 10,\n",
       " '7': 11,\n",
       " '8': 12,\n",
       " '9': 13,\n",
       " '^': 0}"
      ]
     },
     "execution_count": 23,
     "metadata": {},
     "output_type": "execute_result"
    }
   ],
   "source": [
    "word2id"
   ]
  },
  {
   "cell_type": "code",
   "execution_count": 24,
   "metadata": {},
   "outputs": [
    {
     "data": {
      "text/plain": [
       "{0: '^',\n",
       " 1: '$',\n",
       " 2: '#',\n",
       " 3: '+',\n",
       " 4: '-',\n",
       " 5: '1',\n",
       " 6: '2',\n",
       " 7: '3',\n",
       " 8: '4',\n",
       " 9: '5',\n",
       " 10: '6',\n",
       " 11: '7',\n",
       " 12: '8',\n",
       " 13: '9',\n",
       " 14: '0'}"
      ]
     },
     "execution_count": 24,
     "metadata": {},
     "output_type": "execute_result"
    }
   ],
   "source": [
    "id2word"
   ]
  },
  {
   "cell_type": "code",
   "execution_count": 25,
   "metadata": {},
   "outputs": [],
   "source": [
    "start_symbol, end_symbol, padding_symbol = '^', '$', '#'"
   ]
  },
  {
   "cell_type": "code",
   "execution_count": 38,
   "metadata": {},
   "outputs": [],
   "source": [
    "def sentence_to_id(sentence: str, word2id: dict, padded_len):\n",
    "    sent_len = min(padded_len - 1, len(sentence)) + 1\n",
    "    sent_ids = [word2id[w] for w in sentence]\n",
    "    pad_size = max(0, padded_len - len(sent_ids) - 1)\n",
    "    sent_ids = sent_ids[:padded_len - 1] + [word2id[end_symbol]] + [word2id[padding_symbol]] * pad_size\n",
    "\n",
    "    return (sent_ids, sent_len)\n"
   ]
  },
  {
   "cell_type": "code",
   "execution_count": 40,
   "metadata": {},
   "outputs": [],
   "source": [
    "def ids_to_sentence(ids: List[int], id2word: dict)->List:\n",
    "    return [id2word[idx] for idx in ids]"
   ]
  },
  {
   "cell_type": "code",
   "execution_count": 43,
   "metadata": {},
   "outputs": [
    {
     "data": {
      "text/plain": [
       "['1', '2', '3', '+', '1', '2', '3', '$']"
      ]
     },
     "execution_count": 43,
     "metadata": {},
     "output_type": "execute_result"
    }
   ],
   "source": [
    "l = [5, 6, 7, 3, 5, 6, 7, 1]\n",
    "ids_to_sentence(l, id2word)"
   ]
  },
  {
   "cell_type": "code",
   "execution_count": 91,
   "metadata": {},
   "outputs": [],
   "source": [
    "def batch_to_ids(sentences, word2id, max_len):\n",
    "      \n",
    "    max_len_in_batch = min(max(len(s) for s in sentences) + 1, max_len)\n",
    "    batch_ids, batch_ids_len = [], []\n",
    "    for sentence in sentences:\n",
    "        ids, ids_len = sentence_to_id(sentence, word2id, max_len_in_batch)\n",
    "        batch_ids.append(ids)\n",
    "        batch_ids_len.append(ids_len)\n",
    "    return batch_ids, batch_ids_len"
   ]
  },
  {
   "cell_type": "code",
   "execution_count": 92,
   "metadata": {},
   "outputs": [],
   "source": [
    "def generate_batches(samples, batch_size=64):\n",
    "    X, Y = [], []\n",
    "    for i, (x, y) in enumerate(samples, 1):\n",
    "        X.append(x)\n",
    "        Y.append(y)\n",
    "        if i % batch_size == 0:\n",
    "            yield X, Y\n",
    "            X, Y = [], []\n",
    "    if X and Y:\n",
    "        yield X, Y"
   ]
  },
  {
   "cell_type": "code",
   "execution_count": 96,
   "metadata": {},
   "outputs": [
    {
     "name": "stdout",
     "output_type": "stream",
     "text": [
      "Input: 39-60\n",
      "Ids: [[7, 1], [13, 1], [4, 1], [10, 1], [14, 1]]\n",
      "Sentences lengths: [2, 2, 2, 2, 2]\n"
     ]
    }
   ],
   "source": [
    "sentences = train[0][0]\n",
    "ids, sent_lens = batch_to_ids(sentences, word2id, max_len=10)\n",
    "print('Input:', sentences)\n",
    "print('Ids: {}\\nSentences lengths: {}'.format(ids, sent_lens))"
   ]
  },
  {
   "cell_type": "code",
   "execution_count": null,
   "metadata": {},
   "outputs": [],
   "source": []
  },
  {
   "cell_type": "code",
   "execution_count": null,
   "metadata": {},
   "outputs": [],
   "source": []
  },
  {
   "cell_type": "code",
   "execution_count": null,
   "metadata": {},
   "outputs": [],
   "source": []
  }
 ],
 "metadata": {
  "kernelspec": {
   "display_name": "Python 3",
   "language": "python",
   "name": "python3"
  },
  "language_info": {
   "codemirror_mode": {
    "name": "ipython",
    "version": 3
   },
   "file_extension": ".py",
   "mimetype": "text/x-python",
   "name": "python",
   "nbconvert_exporter": "python",
   "pygments_lexer": "ipython3",
   "version": "3.5.2"
  }
 },
 "nbformat": 4,
 "nbformat_minor": 2
}
