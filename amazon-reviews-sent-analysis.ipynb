{
 "cells": [
  {
   "cell_type": "code",
   "execution_count": null,
   "id": "49d90c82-23d2-4c3f-a0db-4ceba3cc00ad",
   "metadata": {},
   "outputs": [],
   "source": [
    "import pandas as pd\n",
    "import numpy as np\n",
    "\n",
    "import nltk"
   ]
  },
  {
   "cell_type": "code",
   "execution_count": null,
   "id": "401c8403-0a2a-4874-ae5b-06213a7e453b",
   "metadata": {},
   "outputs": [],
   "source": [
    "df = pd.read_csv('Reviews.csv')\n",
    "df = df.head(500)\n",
    "print(df.shape)"
   ]
  },
  {
   "cell_type": "code",
   "execution_count": null,
   "id": "257a22fa-abb1-4624-a63d-90c41874d3e3",
   "metadata": {},
   "outputs": [],
   "source": [
    "df.head()"
   ]
  },
  {
   "cell_type": "markdown",
   "id": "69ec7108-0569-47d2-b8f0-29c81f1fdd5f",
   "metadata": {},
   "source": [
    "## Quick EDA"
   ]
  },
  {
   "cell_type": "code",
   "execution_count": null,
   "id": "9c19c60f-b787-4dc5-b861-a931b345d305",
   "metadata": {},
   "outputs": [],
   "source": [
    "import matplotlib.pyplot as plt\n",
    "import seaborn as sns"
   ]
  },
  {
   "cell_type": "code",
   "execution_count": null,
   "id": "7c58c1ab-ec27-4de6-945e-572772a565ed",
   "metadata": {},
   "outputs": [],
   "source": [
    "df['Score'].value_counts().sort_index().plot(kind='bar', title='Count of reviews by stars', figsize=(10,5))"
   ]
  },
  {
   "cell_type": "markdown",
   "id": "335e6b57-4ae9-4357-ab86-dd7aa5318ab9",
   "metadata": {},
   "source": [
    "## Basic NLTK"
   ]
  },
  {
   "cell_type": "code",
   "execution_count": null,
   "id": "51fe6543-cf29-4f1a-8efc-669b18feffcf",
   "metadata": {},
   "outputs": [],
   "source": [
    "example = df['Text'][50]\n",
    "print(example)"
   ]
  },
  {
   "cell_type": "code",
   "execution_count": null,
   "id": "871f63d6-15e0-4c38-9d45-285e85b6c367",
   "metadata": {},
   "outputs": [],
   "source": [
    "tokens = nltk.word_tokenize(example)\n",
    "tokens[:10]"
   ]
  },
  {
   "cell_type": "code",
   "execution_count": null,
   "id": "73a9251a-52a4-4fb3-bb34-758b06b02a6b",
   "metadata": {},
   "outputs": [],
   "source": [
    "# nltk.download('averaged_perceptron_tagger')\n",
    "tagged = nltk.pos_tag(tokens) # pos - parts of speach"
   ]
  },
  {
   "cell_type": "code",
   "execution_count": null,
   "id": "64df5798-4ff2-4925-97ee-8d6d5159c013",
   "metadata": {},
   "outputs": [],
   "source": [
    "tagged[:10]"
   ]
  },
  {
   "cell_type": "code",
   "execution_count": null,
   "id": "397111b2-d285-441a-850f-7f56f0a98465",
   "metadata": {},
   "outputs": [],
   "source": [
    "nltk.download('maxent_ne_chunker')\n",
    "nltk.download('words')\n"
   ]
  },
  {
   "cell_type": "code",
   "execution_count": null,
   "id": "973e2ab3-f971-4637-a0bb-2349e0afd9cd",
   "metadata": {},
   "outputs": [],
   "source": [
    "entities = nltk.chunk.ne_chunk(tagged)\n",
    "entities.pprint()"
   ]
  },
  {
   "cell_type": "markdown",
   "id": "b8b93ec9-c840-4b20-93b4-70c99cfa3c62",
   "metadata": {},
   "source": [
    "## Using VADER sentiment scoring"
   ]
  },
  {
   "cell_type": "code",
   "execution_count": null,
   "id": "d28f58a2-cae8-4908-b413-56ce48cab004",
   "metadata": {},
   "outputs": [],
   "source": [
    "nltk.download('vader_lexicon')"
   ]
  },
  {
   "cell_type": "code",
   "execution_count": null,
   "id": "751a12a4-ec3b-49fa-a5b8-27f62f6af011",
   "metadata": {},
   "outputs": [],
   "source": [
    "from nltk.sentiment import SentimentIntensityAnalyzer\n",
    "\n",
    "sia = SentimentIntensityAnalyzer()"
   ]
  },
  {
   "cell_type": "code",
   "execution_count": null,
   "id": "6b30bf24-b879-4349-9e28-f004e221c2d3",
   "metadata": {},
   "outputs": [],
   "source": [
    "sia.polarity_scores(example)"
   ]
  },
  {
   "cell_type": "code",
   "execution_count": null,
   "id": "f1b8780c-d7f4-440b-b7f9-edf92f280702",
   "metadata": {},
   "outputs": [],
   "source": [
    "# Run the polarity score on the entire dataset:\n",
    "res = {}\n",
    "for i, row in df.iterrows():\n",
    "    text = row['Text']\n",
    "    myid = row['Id']\n",
    "    res[myid] = sia.polarity_scores(text)"
   ]
  },
  {
   "cell_type": "code",
   "execution_count": null,
   "id": "e796f384-bf0f-4ddb-adfe-b8d0f63c5b85",
   "metadata": {},
   "outputs": [],
   "source": [
    "vaders = pd.DataFrame(res).T\n",
    "vaders = vaders.reset_index().rename(columns={'index':'Id'})\n",
    "vaders = vaders.merge(df, how='left')"
   ]
  },
  {
   "cell_type": "code",
   "execution_count": null,
   "id": "5537aff1-450f-4031-8e31-c5ffce4833a3",
   "metadata": {},
   "outputs": [],
   "source": [
    "# now we have sentiment score and metadata\n",
    "vaders.head()"
   ]
  },
  {
   "cell_type": "markdown",
   "id": "b3ddc3d9-4398-40a5-b532-31879dd6e8a8",
   "metadata": {},
   "source": [
    "## plot VADER results"
   ]
  },
  {
   "cell_type": "code",
   "execution_count": null,
   "id": "1e00b44e-5b7c-4f56-9f1b-bbc3c57623a1",
   "metadata": {},
   "outputs": [],
   "source": [
    "sns.barplot(data=vaders, x='Score', y='compound')\n",
    "plt.show()"
   ]
  },
  {
   "cell_type": "code",
   "execution_count": null,
   "id": "626e738b-ec0f-464c-b8fc-346367ac0041",
   "metadata": {},
   "outputs": [],
   "source": [
    "fig, axs = plt.subplots(1, 3, figsize=(15,5))\n",
    "sns.barplot(data=vaders, x='Score', y='pos', axs=[0])\n",
    "sns.barplot(data=vaders, x='Score', y='neu', axs=[1])\n",
    "sns.barplot(data=vaders, x='Score', y='neg', axs=[2])\n",
    "axs[0].set_title('Positive')\n",
    "axs[1].set_title('Neutral')\n",
    "axs[0].set_title('Negative')\n",
    "\n",
    "plt.show()"
   ]
  },
  {
   "cell_type": "markdown",
   "id": "160c4e6e-ee07-4720-a770-ec848e8f289f",
   "metadata": {},
   "source": [
    "## Roberta Pretrained Model\n",
    "<ul>\n",
    "    <li>Use a model trained of a large corpus of data</li>\n",
    "    <li>Transformer model accounts for the words but also the context related to other words.</li>\n",
    "</ul>"
   ]
  },
  {
   "cell_type": "code",
   "execution_count": null,
   "id": "2db642bc-4761-46b2-a21c-7526691207ad",
   "metadata": {},
   "outputs": [],
   "source": [
    "from transformers import AutoTokenizer\n",
    "from transformers import AutoModelForSequenceClassification\n",
    "from scipy.special import softmax"
   ]
  },
  {
   "cell_type": "code",
   "execution_count": null,
   "id": "2dd9bb50-a047-4a1c-b2b8-d486703b3764",
   "metadata": {},
   "outputs": [],
   "source": [
    "MODEL = f\"cardiffnlp/twitter-roberta-base-sentiment\" # model trained on a bunch of twitter comments.\n",
    "tokenizer = AutoTokenizer.from_pretrained(MODEL)\n",
    "model = AutoModelForSequenceClassification.from_pretrained(MODEL)"
   ]
  },
  {
   "cell_type": "code",
   "execution_count": null,
   "id": "92393c40-6c03-4878-8052-d21904a00683",
   "metadata": {},
   "outputs": [],
   "source": [
    "# VADER results on example\n",
    "print(example)\n",
    "sia.polarity_scores(example)"
   ]
  },
  {
   "cell_type": "code",
   "execution_count": null,
   "id": "78ecdd98-d002-4c2a-8c63-b2700d63c962",
   "metadata": {},
   "outputs": [],
   "source": [
    "# Run for Roberta Model\n",
    "\n",
    "encoded_text = tokenizer(example, return_tensors='pt')\n",
    "output = model(**encoded_text)\n",
    "scores = output[0][0].detach().numpy()\n",
    "scores = softmax(scores)\n",
    "scores_dict = {\n",
    "    'roberta_neg': scores[0],\n",
    "    'roberta_neu' : scores[1],\n",
    "    'roberta_pos' : scores[2]\n",
    "}\n",
    "\n",
    "print(scores_dict)"
   ]
  },
  {
   "cell_type": "code",
   "execution_count": null,
   "id": "6c775b76-bc1d-4dd6-9a12-496bf55362c5",
   "metadata": {},
   "outputs": [],
   "source": [
    "def polarity_scores_roberta(example):\n",
    "    encoded_text = tokenizer(example, return_tensors='pt')\n",
    "    output = model(**encoded_text)\n",
    "    scores = output[0][0].detach().numpy()\n",
    "    scores = softmax(scores)\n",
    "    scores_dict = {\n",
    "        'roberta_neg': scores[0],\n",
    "        'roberta_neu' : scores[1],\n",
    "        'roberta_pos' : scores[2]\n",
    "    }\n",
    "    return scores_dict\n"
   ]
  },
  {
   "cell_type": "code",
   "execution_count": null,
   "id": "2f287ae9-3a99-4008-b0d8-3de2f37c347d",
   "metadata": {},
   "outputs": [],
   "source": [
    "res = {}\n",
    "for i, row in df.iterrows():\n",
    "    try:\n",
    "        text = row['Text']\n",
    "        myid = row['Id']\n",
    "        vader_result = sia.polarity_scores(text)\n",
    "        vader_result_rename = {}\n",
    "\n",
    "        for key, value in vader_result.items():\n",
    "            vader_result_rename[f\"vader_{key}\"] = value\n",
    "            roberta_result = polarity_scores_roberta(text)\n",
    "            both = { **vader_result_rename, **roberta_result }    \n",
    "            res[myid] = both\n",
    "    except RuntimeError:\n",
    "        print(f\"Broke for id{myid}\")"
   ]
  },
  {
   "cell_type": "code",
   "execution_count": null,
   "id": "7815eef5-3097-4b52-82b8-b7a21fa274cd",
   "metadata": {},
   "outputs": [],
   "source": [
    "results_df = pd.DataFrame(res).T\n",
    "results_df = results_df.reset_index().rename(columns={\"index\":\"Id\"})\n",
    "results_df = results_df.merge(df, how=\"left\")"
   ]
  },
  {
   "cell_type": "markdown",
   "id": "28827af7-642d-4f41-8fcc-581bc74433ac",
   "metadata": {},
   "source": [
    "## Compare Scores between models"
   ]
  },
  {
   "cell_type": "code",
   "execution_count": null,
   "id": "adc19ee2-d9ac-4619-9746-d7a18df0f4d7",
   "metadata": {},
   "outputs": [],
   "source": [
    "results_df.columns"
   ]
  },
  {
   "cell_type": "markdown",
   "id": "b1acd3f3-be60-4843-ac47-58ed962f0a70",
   "metadata": {},
   "source": [
    "## Combine and Compare"
   ]
  },
  {
   "cell_type": "code",
   "execution_count": null,
   "id": "580fdabf-b90e-4fb2-8475-8b2f03f28476",
   "metadata": {},
   "outputs": [],
   "source": [
    "import seaborn as sns\n",
    "import matplotlib.pyplot as plt\n",
    "sns.pairplot(data=results_df,\n",
    "             vars=[\"vader_neg\", \"vader_neu\", \"vader_pos\", \n",
    "                   \"roberta_neg\", \"roberta_neu\", \"roberta_pos\"],\n",
    "             hue=\"Score\",\n",
    "             palette=\"tab10\")\n",
    "plt.show()"
   ]
  },
  {
   "cell_type": "markdown",
   "id": "976ef372-b512-474d-b249-4ed8252b81f9",
   "metadata": {},
   "source": [
    "## Review Examples\n",
    "<ul>\n",
    "    <li>Positive 1-Star and Negative 5-Star Reviews</li>\n",
    "</ul>\n",
    "Looking at some examples where the model scoring and review score differ the most."
   ]
  },
  {
   "cell_type": "code",
   "execution_count": null,
   "id": "8663346c-3ac2-4977-9f72-8bc7f41954fb",
   "metadata": {},
   "outputs": [],
   "source": [
    "results_df.query(\"Score == 1\").sort_values(\"roberta_pos\", ascending=False)[\"Text\"].values[0]"
   ]
  },
  {
   "cell_type": "code",
   "execution_count": null,
   "id": "015aab7e-d2aa-4006-ae60-a700c0cfa907",
   "metadata": {},
   "outputs": [],
   "source": [
    "results_df.query(\"Score == 1\").sort_values(\"vader_pos\", ascending=False)[\"Text\"].values[0]"
   ]
  },
  {
   "cell_type": "code",
   "execution_count": null,
   "id": "1504fd96-6fd2-4f4e-bf43-d22c63567be7",
   "metadata": {},
   "outputs": [],
   "source": [
    "# Negative Sentiment 5-Star review\n",
    "results_df.query(\"Score == 5\").sort_values(\"roberta_neg\", ascending=False)[\"Text\"].values[0]"
   ]
  },
  {
   "cell_type": "code",
   "execution_count": null,
   "id": "ab3c8e5d-4ee1-434c-9398-6f237c9efa68",
   "metadata": {},
   "outputs": [],
   "source": [
    "results_df.query(\"Score == 5\").sort_values(\"vader_neg\", ascending=False)[\"Text\"].values[0]"
   ]
  },
  {
   "cell_type": "markdown",
   "id": "f31d85dd-ef55-4834-ad4a-726456d2e8d0",
   "metadata": {},
   "source": [
    "## The transformer pipeline\n"
   ]
  },
  {
   "cell_type": "code",
   "execution_count": null,
   "id": "df4c5a24-135d-4996-9a41-f8e0f26b92cf",
   "metadata": {},
   "outputs": [],
   "source": [
    "from transformers import pipeline\n",
    "\n",
    "sent_pipeline = pipeline(\"sentiment-analysis\")"
   ]
  },
  {
   "cell_type": "code",
   "execution_count": null,
   "id": "21429f0b-ed62-4552-ad98-4337a8965e15",
   "metadata": {},
   "outputs": [],
   "source": []
  }
 ],
 "metadata": {
  "kernelspec": {
   "display_name": "Python 3 (ipykernel)",
   "language": "python",
   "name": "python3"
  },
  "language_info": {
   "codemirror_mode": {
    "name": "ipython",
    "version": 3
   },
   "file_extension": ".py",
   "mimetype": "text/x-python",
   "name": "python",
   "nbconvert_exporter": "python",
   "pygments_lexer": "ipython3",
   "version": "3.10.12"
  }
 },
 "nbformat": 4,
 "nbformat_minor": 5
}
