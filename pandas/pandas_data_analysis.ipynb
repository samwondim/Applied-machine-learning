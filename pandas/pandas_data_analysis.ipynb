{
 "cells": [
  {
   "cell_type": "code",
   "execution_count": 1,
   "id": "dd24412b-566d-4f9f-b243-8b94e9c07af6",
   "metadata": {},
   "outputs": [],
   "source": [
    "import pandas as pd\n",
    "import numpy as np"
   ]
  },
  {
   "cell_type": "markdown",
   "id": "9b3a38ce-65a1-40a9-9b6b-ffc003520cdc",
   "metadata": {},
   "source": [
    "## Series"
   ]
  },
  {
   "cell_type": "code",
   "execution_count": 2,
   "id": "ad58c6c8-0068-4fc8-8e10-485a60977750",
   "metadata": {},
   "outputs": [],
   "source": [
    "my_data = [\"Boat\", \"Car\", \"Bike\", \"Truck\"]\n",
    "\n",
    "my_series = pd.Series(my_data)"
   ]
  },
  {
   "cell_type": "code",
   "execution_count": 3,
   "id": "06efe558-1244-4b69-bcb7-60aac9435b29",
   "metadata": {},
   "outputs": [
    {
     "name": "stdout",
     "output_type": "stream",
     "text": [
      "0     Boat\n",
      "1      Car\n",
      "2     Bike\n",
      "3    Truck\n",
      "dtype: object\n"
     ]
    }
   ],
   "source": [
    "print(my_series)"
   ]
  },
  {
   "cell_type": "markdown",
   "id": "32a4a27c-e1b3-46f6-9b7e-21f1256bd191",
   "metadata": {},
   "source": [
    "## DataFrames"
   ]
  },
  {
   "cell_type": "code",
   "execution_count": 4,
   "id": "b7c835cd-41c2-4ba4-8a4c-ec09b71dcd7d",
   "metadata": {},
   "outputs": [
    {
     "data": {
      "text/html": [
       "<div>\n",
       "<style scoped>\n",
       "    .dataframe tbody tr th:only-of-type {\n",
       "        vertical-align: middle;\n",
       "    }\n",
       "\n",
       "    .dataframe tbody tr th {\n",
       "        vertical-align: top;\n",
       "    }\n",
       "\n",
       "    .dataframe thead th {\n",
       "        text-align: right;\n",
       "    }\n",
       "</style>\n",
       "<table border=\"1\" class=\"dataframe\">\n",
       "  <thead>\n",
       "    <tr style=\"text-align: right;\">\n",
       "      <th></th>\n",
       "      <th>Thing</th>\n",
       "      <th>Count</th>\n",
       "    </tr>\n",
       "  </thead>\n",
       "  <tbody>\n",
       "    <tr>\n",
       "      <th>0</th>\n",
       "      <td>Boat</td>\n",
       "      <td>12</td>\n",
       "    </tr>\n",
       "    <tr>\n",
       "      <th>1</th>\n",
       "      <td>Car</td>\n",
       "      <td>22</td>\n",
       "    </tr>\n",
       "    <tr>\n",
       "      <th>2</th>\n",
       "      <td>Bike</td>\n",
       "      <td>32</td>\n",
       "    </tr>\n",
       "    <tr>\n",
       "      <th>3</th>\n",
       "      <td>Truck</td>\n",
       "      <td>42</td>\n",
       "    </tr>\n",
       "  </tbody>\n",
       "</table>\n",
       "</div>"
      ],
      "text/plain": [
       "   Thing  Count\n",
       "0   Boat     12\n",
       "1    Car     22\n",
       "2   Bike     32\n",
       "3  Truck     42"
      ]
     },
     "execution_count": 4,
     "metadata": {},
     "output_type": "execute_result"
    }
   ],
   "source": [
    "my_data = [(\"Boat\", 12), (\"Car\", 22), (\"Bike\",32), (\"Truck\", 42)]\n",
    "\n",
    "my_df = pd.DataFrame(my_data, columns=[\"Thing\", \"Count\"])\n",
    "\n",
    "my_df"
   ]
  },
  {
   "cell_type": "code",
   "execution_count": 5,
   "id": "6c41f4be-ffde-4b00-b186-f75cd98a7249",
   "metadata": {},
   "outputs": [
    {
     "data": {
      "text/plain": [
       "Thing    object\n",
       "Count     int64\n",
       "dtype: object"
      ]
     },
     "execution_count": 5,
     "metadata": {},
     "output_type": "execute_result"
    }
   ],
   "source": [
    "my_df.dtypes # to check the columns and data types of the dataframe"
   ]
  },
  {
   "cell_type": "markdown",
   "id": "a782f9ea-b9ae-4988-a8fa-d3dbbf1e015d",
   "metadata": {},
   "source": [
    "## Reading in data"
   ]
  },
  {
   "cell_type": "code",
   "execution_count": null,
   "id": "a5fb3745-bc0b-400b-965e-c410ecb59555",
   "metadata": {},
   "outputs": [],
   "source": [
    "df = pd.read_csv() # read csv file"
   ]
  },
  {
   "cell_type": "code",
   "execution_count": null,
   "id": "e81a6db8-c66a-4529-99ff-52dfc2706104",
   "metadata": {},
   "outputs": [],
   "source": [
    "df.head() # print the first five rows in the dataframe.\n",
    "df.tail() # print the last five rows in the dataframe."
   ]
  },
  {
   "cell_type": "code",
   "execution_count": null,
   "id": "b1342e56-cdd0-4309-933c-a8c351987b0b",
   "metadata": {},
   "outputs": [],
   "source": [
    "df.dtypes # data types of each column of the dataframe."
   ]
  },
  {
   "cell_type": "code",
   "execution_count": null,
   "id": "39533568-cddc-4c6b-b4eb-b436ee86ad32",
   "metadata": {},
   "outputs": [],
   "source": [
    "df.describe() # stastical review of the dataframe."
   ]
  },
  {
   "cell_type": "markdown",
   "id": "ee9eb36f-b627-46b7-bf2d-44744b6afcf1",
   "metadata": {},
   "source": [
    "## Columns and Rows"
   ]
  },
  {
   "cell_type": "code",
   "execution_count": null,
   "id": "7486c7e9-8bf4-4833-8198-d3c59a324e96",
   "metadata": {},
   "outputs": [],
   "source": [
    "df[\"column_name\"]"
   ]
  },
  {
   "cell_type": "code",
   "execution_count": null,
   "id": "21adcfcc-748b-4f1d-ab38-b1c23255f9a7",
   "metadata": {},
   "outputs": [],
   "source": [
    "df.loc[\"row\"]"
   ]
  },
  {
   "cell_type": "markdown",
   "id": "b14804c0-ce9e-4f51-896e-bddf6e48d47f",
   "metadata": {},
   "source": [
    "## Subsetting Data"
   ]
  },
  {
   "cell_type": "code",
   "execution_count": null,
   "id": "b11b4516-8bcc-4420-a05f-56260bfd5359",
   "metadata": {},
   "outputs": [],
   "source": [
    "# subsetting columns\n",
    "new_df = df[\"column name\",\"column name\",\"column name\"]\n",
    "\n",
    "df.shape\n",
    "# subsetting rows using loc\n",
    "df_subset1 = df.loc[(df[\"column name\"]))] # with some conditional statement inside."
   ]
  },
  {
   "cell_type": "code",
   "execution_count": null,
   "id": "937b4f95-427d-4491-961b-14a0c1c34309",
   "metadata": {},
   "outputs": [],
   "source": [
    "# subsetting using query\n",
    "df.query(\"query condition\") # doesn't work in every situation"
   ]
  },
  {
   "cell_type": "code",
   "execution_count": null,
   "id": "f97653b8-1aee-4d41-9f08-193b53759720",
   "metadata": {},
   "outputs": [],
   "source": [
    "# droping null values\n",
    "new_df = df.loc(~df['col name'].isna())"
   ]
  },
  {
   "cell_type": "markdown",
   "id": "5b43b7cc-0a6d-4464-924f-4f12e573e7dd",
   "metadata": {},
   "source": [
    "## Casting dtypes"
   ]
  },
  {
   "cell_type": "code",
   "execution_count": null,
   "id": "457bd328-5de7-49f8-8059-ee952b074877",
   "metadata": {},
   "outputs": [],
   "source": []
  },
  {
   "cell_type": "markdown",
   "id": "56144db4-65a1-44bb-9408-952659265707",
   "metadata": {},
   "source": [
    "## Creating new column"
   ]
  },
  {
   "cell_type": "code",
   "execution_count": null,
   "id": "519a70e9-27b9-41f0-a0e2-4a2fdeabbc12",
   "metadata": {},
   "outputs": [],
   "source": []
  },
  {
   "cell_type": "markdown",
   "id": "e79fca9b-4bf8-4773-8494-17d475b866e0",
   "metadata": {},
   "source": [
    "## Adding new row"
   ]
  },
  {
   "cell_type": "code",
   "execution_count": null,
   "id": "eb265ae4-b660-4aa8-b4ed-1c5290293742",
   "metadata": {},
   "outputs": [],
   "source": [
    "# concatenating two dataframes\n",
    "pd.concat([df, other_df])"
   ]
  },
  {
   "cell_type": "markdown",
   "id": "8180d26d-9894-494f-88eb-92e2289f18d0",
   "metadata": {},
   "source": [
    "## Plot Examples"
   ]
  },
  {
   "cell_type": "code",
   "execution_count": null,
   "id": "034348d6-b3f1-43dd-9fbc-5af460870923",
   "metadata": {},
   "outputs": [],
   "source": []
  },
  {
   "cell_type": "markdown",
   "id": "33bf3724-355c-4abb-a810-5df8f51b8cd6",
   "metadata": {},
   "source": [
    "## Save output"
   ]
  },
  {
   "cell_type": "code",
   "execution_count": null,
   "id": "7a768208-54f5-42f8-a085-9c174b4bed14",
   "metadata": {},
   "outputs": [],
   "source": [
    "df.to_csv('processed_data.csv', index=False) # index var signals whether or not to save the index of the data frame."
   ]
  }
 ],
 "metadata": {
  "kernelspec": {
   "display_name": "Python 3 (ipykernel)",
   "language": "python",
   "name": "python3"
  },
  "language_info": {
   "codemirror_mode": {
    "name": "ipython",
    "version": 3
   },
   "file_extension": ".py",
   "mimetype": "text/x-python",
   "name": "python",
   "nbconvert_exporter": "python",
   "pygments_lexer": "ipython3",
   "version": "3.10.12"
  }
 },
 "nbformat": 4,
 "nbformat_minor": 5
}
